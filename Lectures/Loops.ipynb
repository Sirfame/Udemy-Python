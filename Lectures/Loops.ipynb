{
 "cells": [
  {
   "cell_type": "markdown",
   "metadata": {
    "collapsed": true
   },
   "source": [
    "A for loop acts as an iterator that can traverse through a sequence or any other iterable item. So far, items that can be iterated over are strings, lists, tuples and built in iterables like dictionary."
   ]
  },
  {
   "cell_type": "code",
   "execution_count": 1,
   "metadata": {},
   "outputs": [
    {
     "name": "stdout",
     "output_type": "stream",
     "text": [
      "1\n",
      "2\n",
      "3\n",
      "4\n",
      "5\n"
     ]
    }
   ],
   "source": [
    "l = [1,2,3,4,5]\n",
    "for num in l:\n",
    "    print num"
   ]
  },
  {
   "cell_type": "code",
   "execution_count": 2,
   "metadata": {
    "collapsed": true
   },
   "outputs": [],
   "source": [
    "string = 'string'"
   ]
  },
  {
   "cell_type": "code",
   "execution_count": 3,
   "metadata": {},
   "outputs": [
    {
     "data": {
      "text/plain": [
       "'g'"
      ]
     },
     "execution_count": 3,
     "metadata": {},
     "output_type": "execute_result"
    }
   ],
   "source": [
    "string[-1]"
   ]
  },
  {
   "cell_type": "code",
   "execution_count": 4,
   "metadata": {
    "collapsed": true
   },
   "outputs": [],
   "source": [
    "l = [(2,3),(3,4),(5,6)]"
   ]
  },
  {
   "cell_type": "code",
   "execution_count": 5,
   "metadata": {},
   "outputs": [
    {
     "name": "stdout",
     "output_type": "stream",
     "text": [
      "2\n",
      "3\n",
      "5\n"
     ]
    }
   ],
   "source": [
    "for tup in l:\n",
    "    print tup[0]"
   ]
  },
  {
   "cell_type": "code",
   "execution_count": 6,
   "metadata": {},
   "outputs": [
    {
     "ename": "NameError",
     "evalue": "name 'k1' is not defined",
     "output_type": "error",
     "traceback": [
      "\u001b[0;31m---------------------------------------------------------------------------\u001b[0m",
      "\u001b[0;31mNameError\u001b[0m                                 Traceback (most recent call last)",
      "\u001b[0;32m<ipython-input-6-5e6ff9c2570e>\u001b[0m in \u001b[0;36m<module>\u001b[0;34m()\u001b[0m\n\u001b[0;32m----> 1\u001b[0;31m \u001b[0mdict\u001b[0m \u001b[0;34m=\u001b[0m \u001b[0;34m{\u001b[0m\u001b[0mk1\u001b[0m\u001b[0;34m:\u001b[0m\u001b[0;36m1\u001b[0m\u001b[0;34m}\u001b[0m\u001b[0;34m\u001b[0m\u001b[0m\n\u001b[0m",
      "\u001b[0;31mNameError\u001b[0m: name 'k1' is not defined"
     ]
    }
   ],
   "source": [
    "dict = {k1:1}"
   ]
  },
  {
   "cell_type": "code",
   "execution_count": 7,
   "metadata": {
    "collapsed": true
   },
   "outputs": [],
   "source": [
    "dict = {1:1}"
   ]
  },
  {
   "cell_type": "code",
   "execution_count": 8,
   "metadata": {},
   "outputs": [
    {
     "data": {
      "text/plain": [
       "1"
      ]
     },
     "execution_count": 8,
     "metadata": {},
     "output_type": "execute_result"
    }
   ],
   "source": [
    "dict[1]"
   ]
  },
  {
   "cell_type": "code",
   "execution_count": 9,
   "metadata": {
    "collapsed": true
   },
   "outputs": [],
   "source": [
    "dict[1] = 2"
   ]
  },
  {
   "cell_type": "code",
   "execution_count": 10,
   "metadata": {},
   "outputs": [
    {
     "data": {
      "text/plain": [
       "2"
      ]
     },
     "execution_count": 10,
     "metadata": {},
     "output_type": "execute_result"
    }
   ],
   "source": [
    "dict[1]"
   ]
  },
  {
   "cell_type": "code",
   "execution_count": 11,
   "metadata": {
    "collapsed": true
   },
   "outputs": [],
   "source": [
    "dict = {'k1':1, 'k2':2, 'k3':3}"
   ]
  },
  {
   "cell_type": "code",
   "execution_count": 12,
   "metadata": {},
   "outputs": [
    {
     "name": "stdout",
     "output_type": "stream",
     "text": [
      "('k3', 3)\n",
      "('k2', 2)\n",
      "('k1', 1)\n"
     ]
    }
   ],
   "source": [
    "for item in dict.iteritems():\n",
    "    print item"
   ]
  },
  {
   "cell_type": "code",
   "execution_count": 13,
   "metadata": {},
   "outputs": [
    {
     "name": "stdout",
     "output_type": "stream",
     "text": [
      "k3\n",
      "k2\n",
      "k1\n"
     ]
    }
   ],
   "source": [
    "for items in dict.viewkeys():\n",
    "    print items\n"
   ]
  },
  {
   "cell_type": "markdown",
   "metadata": {},
   "source": [
    "lots of changes for python 2 -> python 3 is turning things into generators, instead of lists. "
   ]
  },
  {
   "cell_type": "markdown",
   "metadata": {},
   "source": [
    "# While Loops"
   ]
  },
  {
   "cell_type": "markdown",
   "metadata": {},
   "source": [
    "While has else"
   ]
  },
  {
   "cell_type": "code",
   "execution_count": 20,
   "metadata": {
    "collapsed": true
   },
   "outputs": [],
   "source": [
    "x = 0"
   ]
  },
  {
   "cell_type": "code",
   "execution_count": 21,
   "metadata": {},
   "outputs": [
    {
     "name": "stdout",
     "output_type": "stream",
     "text": [
      "fk\n",
      "fk\n",
      "fk\n",
      "fk\n",
      "fk\n",
      "fk\n",
      "fk\n",
      "fk\n",
      "fk\n",
      "fk\n",
      "all done\n"
     ]
    }
   ],
   "source": [
    "while x < 10:\n",
    "    print 'fk'\n",
    "    x += 1\n",
    "else:\n",
    "    print 'all done'"
   ]
  },
  {
   "cell_type": "markdown",
   "metadata": {},
   "source": [
    "Break, continue, and pass"
   ]
  },
  {
   "cell_type": "code",
   "execution_count": 24,
   "metadata": {},
   "outputs": [
    {
     "name": "stdout",
     "output_type": "stream",
     "text": [
      "x is 0\n",
      "x is still less than 10, adding 1 to x\n",
      "continuting\n",
      "x is 1\n",
      "x is still less than 10, adding 1 to x\n",
      "continuting\n",
      "x is 2\n",
      "x is still less than 10, adding 1 to x\n",
      "x = 3\n",
      "x is 3\n",
      "x is still less than 10, adding 1 to x\n",
      "continuting\n",
      "x is 4\n",
      "x is still less than 10, adding 1 to x\n",
      "continuting\n",
      "x is 5\n",
      "x is still less than 10, adding 1 to x\n",
      "continuting\n",
      "x is 6\n",
      "x is still less than 10, adding 1 to x\n",
      "continuting\n",
      "x is 7\n",
      "x is still less than 10, adding 1 to x\n",
      "continuting\n",
      "x is 8\n",
      "x is still less than 10, adding 1 to x\n",
      "continuting\n",
      "x is 9\n",
      "x is still less than 10, adding 1 to x\n",
      "continuting\n"
     ]
    }
   ],
   "source": [
    "x = 0\n",
    "while x < 10:\n",
    "    print 'x is',x\n",
    "    print 'x is still less than 10, adding 1 to x'\n",
    "    x+=1\n",
    "    if x == 3:\n",
    "        print 'x = 3'\n",
    "    else:\n",
    "        print 'continuting'"
   ]
  },
  {
   "cell_type": "code",
   "execution_count": 30,
   "metadata": {},
   "outputs": [
    {
     "name": "stdout",
     "output_type": "stream",
     "text": [
      "x is 0\n",
      "x is still less than 10, adding 1 to x\n",
      "continuting\n",
      "x is 1\n",
      "x is still less than 10, adding 1 to x\n",
      "continuting\n",
      "x is 2\n",
      "x is still less than 10, adding 1 to x\n",
      "x = 3\n"
     ]
    }
   ],
   "source": [
    "x = 0\n",
    "while x < 10:\n",
    "    print 'x is',x\n",
    "    print 'x is still less than 10, adding 1 to x'\n",
    "    x+=1\n",
    "    if x == 3:\n",
    "        print 'x = 3'\n",
    "        \n",
    "        break\n",
    "    else:\n",
    "        print 'continuting'\n",
    "        continue\n",
    "        \n",
    "    print 'did not skip printing here'"
   ]
  },
  {
   "cell_type": "markdown",
   "metadata": {},
   "source": [
    "break: breaks out of the current closest enclosing loop\n",
    "continue: goes to the top of the closest enclosing loop\n",
    "pass: does nothing at all"
   ]
  },
  {
   "cell_type": "code",
   "execution_count": null,
   "metadata": {
    "collapsed": true
   },
   "outputs": [],
   "source": []
  }
 ],
 "metadata": {
  "kernelspec": {
   "display_name": "Python 2",
   "language": "python",
   "name": "python2"
  },
  "language_info": {
   "codemirror_mode": {
    "name": "ipython",
    "version": 2
   },
   "file_extension": ".py",
   "mimetype": "text/x-python",
   "name": "python",
   "nbconvert_exporter": "python",
   "pygments_lexer": "ipython2",
   "version": "2.7.13"
  }
 },
 "nbformat": 4,
 "nbformat_minor": 2
}
